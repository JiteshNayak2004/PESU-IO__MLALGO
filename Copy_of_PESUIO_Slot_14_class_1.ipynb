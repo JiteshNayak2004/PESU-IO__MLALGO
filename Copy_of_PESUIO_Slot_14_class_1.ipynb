{
  "nbformat": 4,
  "nbformat_minor": 0,
  "metadata": {
    "colab": {
      "provenance": [],
      "include_colab_link": true
    },
    "kernelspec": {
      "name": "python3",
      "display_name": "Python 3"
    },
    "language_info": {
      "name": "python"
    }
  },
  "cells": [
    {
      "cell_type": "markdown",
      "metadata": {
        "id": "view-in-github",
        "colab_type": "text"
      },
      "source": [
        "<a href=\"https://colab.research.google.com/github/JiteshNayak2004/pesu-io-ml-algorithms/blob/main/Copy_of_PESUIO_Slot_14_class_1.ipynb\" target=\"_parent\"><img src=\"https://colab.research.google.com/assets/colab-badge.svg\" alt=\"Open In Colab\"/></a>"
      ]
    },
    {
      "cell_type": "markdown",
      "source": [
        "Welcome to the first class of undersanding ML algorithms\n",
        "Today you will get yourselves familiar with python and essentially get to dive into the basics of some libraries that you will be learning about throughout this course."
      ],
      "metadata": {
        "id": "uxWHk4LP14P2"
      }
    },
    {
      "cell_type": "markdown",
      "source": [
        "The Most basic Hello World program:"
      ],
      "metadata": {
        "id": "4TUobwcn2cvz"
      }
    },
    {
      "cell_type": "code",
      "source": [
        "print(\"Hello World!\")"
      ],
      "metadata": {
        "colab": {
          "base_uri": "https://localhost:8080/"
        },
        "id": "hE7C8tL22lmD",
        "outputId": "145a0148-dff4-4db3-d741-414b42869154"
      },
      "execution_count": null,
      "outputs": [
        {
          "output_type": "stream",
          "name": "stdout",
          "text": [
            "Hello World!\n"
          ]
        }
      ]
    },
    {
      "cell_type": "markdown",
      "source": [
        "Concept of variables and data types :\n",
        "EXERCISE: A travel company wants to fly a plane to the Bahamas. Flying the plane costs 5000 dollars. So far, 29 people have signed up for the trip. If the company charges 200 dollars per ticket, what is the profit made by the company? Create variables for each numeric quantity and use appropriate arithmetic operations."
      ],
      "metadata": {
        "id": "ovKfTdej2B9R"
      }
    },
    {
      "cell_type": "code",
      "source": [
        "plane_cost=5000\n",
        "ticket_cost=200\n",
        "profit=29*ticket_cost-plane_cost\n",
        "print(profit)"
      ],
      "metadata": {
        "id": "vxkFv26E23qA",
        "colab": {
          "base_uri": "https://localhost:8080/"
        },
        "outputId": "e7a88528-2899-42a5-9c46-edee04dd27a4"
      },
      "execution_count": 2,
      "outputs": [
        {
          "output_type": "stream",
          "name": "stdout",
          "text": [
            "800\n"
          ]
        }
      ]
    },
    {
      "cell_type": "markdown",
      "source": [
        "Concept of a conditional statement or a set of conditional statements and cases :\n",
        "Write a code snippet which evaluates whether a number is a multiple of just 2 , just 3 , or both 2 and 3 (multiple of 6)"
      ],
      "metadata": {
        "id": "xjAB_LDJ24I3"
      }
    },
    {
      "cell_type": "code",
      "source": [
        "#use if-else statements and print out the required information:\n",
        "num= 12\n",
        "if(num%2==0 and num%3==0):\n",
        "  print(\"multiple of 6\")\n",
        "elif(num%2==0):\n",
        "  print(\"multiple of 2\")\n",
        "elif(num%3==0):\n",
        "  print(\"multiple of 3\")\n",
        "#complete this area"
      ],
      "metadata": {
        "id": "m_ZVPJuN3AXP",
        "colab": {
          "base_uri": "https://localhost:8080/"
        },
        "outputId": "fd437a4d-6c09-4e73-b444-6178902fe18b"
      },
      "execution_count": 3,
      "outputs": [
        {
          "output_type": "stream",
          "name": "stdout",
          "text": [
            "multiple of 6\n"
          ]
        }
      ]
    },
    {
      "cell_type": "markdown",
      "source": [
        "Concept of loops:\n",
        "Write a program to count the number of vowels in the given string:\n",
        "ANTIESTABLISHMENTARIANISTICALLY"
      ],
      "metadata": {
        "id": "O2bGzmzO3s9L"
      }
    },
    {
      "cell_type": "code",
      "source": [
        "count=0\n",
        "word= \"ANTIESTABLISHMENTARIANISTICALLY\"\n",
        "vowel = (\"aeiouAEIOU\")\n",
        "for i in range(len(word)):\n",
        "  if(word[i] in vowel):\n",
        "    count=count+1\n",
        "print(count)\n"
      ],
      "metadata": {
        "id": "4g7drYH83vYE",
        "colab": {
          "base_uri": "https://localhost:8080/"
        },
        "outputId": "9c37aaea-124e-4c5f-9b93-9ae7e36f1858"
      },
      "execution_count": 7,
      "outputs": [
        {
          "output_type": "stream",
          "name": "stdout",
          "text": [
            "12\n"
          ]
        }
      ]
    },
    {
      "cell_type": "markdown",
      "source": [
        "learning what each data- structure in python does and using all their functions:\n"
      ],
      "metadata": {
        "id": "e4Vc9Nw84bD5"
      }
    },
    {
      "cell_type": "markdown",
      "source": [
        "LISTS AND ITS FUNCTIONALITY:"
      ],
      "metadata": {
        "id": "OaEbJ_LY4joh"
      }
    },
    {
      "cell_type": "code",
      "source": [
        "#Define a random list of fruits \n",
        "fruits= [\"apple\",\"pear\",\"banana\"]\n",
        "\n",
        "#iterate over the list and find the name of the fruit which has the smallest word length\n",
        "small_len=len(fruits[0])\n",
        "for i in fruits:\n",
        "  if(len(i)<small_len):\n",
        "    small_len=len(i)\n",
        "print(small_len)\n",
        "\n",
        "\n",
        "# append a vegetable to your existing list\n",
        "fruits.append(\"tomato\")\n",
        "print(fruits)\n",
        "\n",
        "# find the size of your list\n",
        "print(len(fruits))\n",
        "\n",
        "# add enough fruits such that your list size if greater that 4\n",
        "fruits.append(\"raddish\")\n",
        "print(len(fruits))\n",
        "\n",
        "# delete the 2nd fruit(1st index) from your list:\n",
        "fruits.pop(1)\n",
        "\n",
        "# add your name in the 4th position of the list (3rd index)\n",
        "fruits[3]=\"jitesh\"\n",
        "\n",
        "#have fun and try out any 4-5 pre-defined fucntions on a list as seen in the python list documentation\n",
        "\n"
      ],
      "metadata": {
        "id": "rjle8Jat4n7b",
        "colab": {
          "base_uri": "https://localhost:8080/"
        },
        "outputId": "ced84da7-76c0-476a-c459-8d0aefa5e785"
      },
      "execution_count": 11,
      "outputs": [
        {
          "output_type": "stream",
          "name": "stdout",
          "text": [
            "4\n",
            "['apple', 'pear', 'banana', 'tomato']\n",
            "4\n",
            "5\n"
          ]
        }
      ]
    },
    {
      "cell_type": "markdown",
      "source": [
        "TUPLES AND ITS FUNCTIONALITY:"
      ],
      "metadata": {
        "id": "IAYs58gx4oWB"
      }
    },
    {
      "cell_type": "code",
      "source": [
        "#create abd tuple and print its elements \n",
        "tup1= (\"a\", 1, \"c\")\n",
        "print(tup1)\n",
        "\n",
        "#print the type of each value in the tuple\n",
        "for i in tup1:\n",
        "  print(type(i))\n",
        "\n",
        "#try to change the seconf value in your tuple to \"Caterpillar\"\n",
        "#tup1[1]=\"caterpillar\"   tuple values are immutable\n",
        "#print(tup1)\n",
        "\n",
        "# print the last element of the tuple without using the length of the tuple\n",
        "print(tup1[-1])\n",
        "\n",
        "# slicing is an IMPORTANT concept in python especially since you will all be working on huge amounts of data so try different options \n",
        "# print(a[-2:]), print([:3]) etc...\n",
        "\n",
        "#sort vs sorted function: find the difference in the form of a program:\n"
      ],
      "metadata": {
        "id": "KquFBYey4qzu",
        "colab": {
          "base_uri": "https://localhost:8080/"
        },
        "outputId": "97580a12-217c-4928-c984-eb01ed58edc6"
      },
      "execution_count": 20,
      "outputs": [
        {
          "output_type": "stream",
          "name": "stdout",
          "text": [
            "('a', 1, 'c')\n",
            "<class 'str'>\n",
            "<class 'int'>\n",
            "<class 'str'>\n",
            "c\n"
          ]
        }
      ]
    },
    {
      "cell_type": "markdown",
      "source": [
        "SETS AND ITS FUNCTIONALITY:"
      ],
      "metadata": {
        "id": "P3xn-gIL4rS6"
      }
    },
    {
      "cell_type": "code",
      "source": [
        "#explore the properties of set and after doing that solve this little puzzle below:\n",
        "\n"
      ],
      "metadata": {
        "id": "RlURFwFx4viZ"
      },
      "execution_count": null,
      "outputs": []
    },
    {
      "cell_type": "markdown",
      "source": [
        "Ana is a data-scientist  who just started her career in Meta, however she needs to find the existance of new words on facebook hashtags and find the numbre of unique such words which need to be added to the existing facebook hastag library:\n",
        "\n",
        "facebook hastag library : [\"ootd\", \"lol\", \"ffs\", \"asap\"]\n",
        "daily facebook hastag words string: \" rofl lol macha bob ootd asap fun sweet16 ffs lol asap ootd ffs macha rofl bob ootd fun candid anime happyhours bob fun happyhours\"\n",
        "You will need to indivitually extract the words from the string and then solve this problem ?? How are you going to do that ? \n",
        "# Reading documentation should become a habit ....."
      ],
      "metadata": {
        "id": "na8tI4EH70Lt"
      }
    },
    {
      "cell_type": "code",
      "source": [
        "#solve the above problem and help ana do her work she may even hire you as her assistant!!!\n"
      ],
      "metadata": {
        "id": "0ww7Zs5BBiBQ"
      },
      "execution_count": null,
      "outputs": []
    },
    {
      "cell_type": "markdown",
      "source": [
        "DICTIONARIES AND ITS FUNCTIONALITY:"
      ],
      "metadata": {
        "id": "kMmUm2qI4wBP"
      }
    },
    {
      "cell_type": "code",
      "source": [
        "#explore the usage of dictionaries because it is literally so useful when in comes data science\n",
        "#a lot of the data you will be using will be as key-value pairs \n"
      ],
      "metadata": {
        "id": "oR-54dFT4zYN"
      },
      "execution_count": null,
      "outputs": []
    },
    {
      "cell_type": "markdown",
      "source": [
        "Given an unsorted list of some elements(may or may not be integers), Find the frequency of each distinct element in the list using a dictionary. \n",
        "Input : [1, 1, 1, 5, 5, 3, 1, 3, 3, 1,\n",
        "                  4, 4, 4, 2, 2, 2, 2]\n",
        "\n",
        "Output : 1 : 5\n",
        "         2 : 4\n",
        "         3 : 3\n",
        "         4 : 3\n",
        "         5 : 2\n",
        "\n"
      ],
      "metadata": {
        "id": "V-iZrEMlE30W"
      }
    },
    {
      "cell_type": "code",
      "source": [
        "# Python program to count the frequency of\n",
        "# elements in a list using a dictionary\n",
        " \n",
        "def CountFrequency(my_list):\n",
        " \n",
        "    # Creating an empty dictionary\n",
        "    freq = {}\n",
        "    #------fill your code here-----------------\n",
        "    for i in my_list:\n",
        "\n",
        "      if (i in freq):\n",
        "            freq[i] += 1\n",
        "      else:\n",
        "            freq[i] = 1\n",
        " \n",
        "    for key, value in freq.items():\n",
        "        print (\"% d : % d\"%(key, value))\n",
        "    \n",
        "# Driver function\n",
        "if __name__ == \"__main__\":\n",
        "    my_list =[1, 1, 1, 5, 5, 3, 1, 3, 3, 1, 4, 4, 4, 2, 2, 2, 2]\n",
        " \n",
        "    CountFrequency(my_list)"
      ],
      "metadata": {
        "id": "dPP6aUJaFbbv",
        "colab": {
          "base_uri": "https://localhost:8080/"
        },
        "outputId": "699edda1-23d1-40bb-82ea-94e0c79c2bf9"
      },
      "execution_count": 15,
      "outputs": [
        {
          "output_type": "stream",
          "name": "stdout",
          "text": [
            " 1 :  5\n",
            " 5 :  2\n",
            " 3 :  3\n",
            " 4 :  3\n",
            " 2 :  4\n"
          ]
        }
      ]
    },
    {
      "cell_type": "markdown",
      "source": [
        "Now that you have finished this basics exercise in python We shall now play in teams and winning Team doesn't get homework today !"
      ],
      "metadata": {
        "id": "7AoTxECAFvfc"
      }
    }
  ]
}